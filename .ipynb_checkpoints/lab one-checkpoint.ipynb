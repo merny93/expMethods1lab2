{
 "cells": [
  {
   "cell_type": "code",
   "execution_count": 1,
   "metadata": {},
   "outputs": [],
   "source": [
    "import numpy as np\n",
    "import os\n",
    "import matplotlib.pyplot as plt\n",
    "import math"
   ]
  },
  {
   "cell_type": "code",
   "execution_count": 2,
   "metadata": {},
   "outputs": [],
   "source": [
    "#input of data\n",
    "data = 'dataLab1.csv'\n",
    "results = np.loadtxt(data, delimiter=',')\n",
    "#print(results)"
   ]
  },
  {
   "cell_type": "code",
   "execution_count": 3,
   "metadata": {},
   "outputs": [
    {
     "name": "stdout",
     "output_type": "stream",
     "text": [
      "#4\n",
      "mean\n",
      "[1.12365 1.6228  2.0338  2.4064  2.7054 ]\n",
      "std\n",
      "[0.03738218 0.05150495 0.06280812 0.04810135 0.0075921 ]\n",
      "doesnt really agree talk about later\n"
     ]
    }
   ],
   "source": [
    "#code for question 4\n",
    "print('#4')\n",
    "mean = np.mean(results, axis=0)\n",
    "print('mean')\n",
    "print(mean)\n",
    "std = np.std(results, axis=0)\n",
    "print('std')\n",
    "print(std)\n",
    "print('doesnt really agree talk about later')"
   ]
  },
  {
   "cell_type": "code",
   "execution_count": 4,
   "metadata": {},
   "outputs": [],
   "source": [
    "#def for question 5\n",
    "def data_generator(mean, std, n_measurements = 500, n_samples = 20):\n",
    "    \"\"\"\n",
    "    Generate an array of measurements from a normal distribution.\n",
    "    Parameters\n",
    "    ----------\n",
    "    mean : float\n",
    "    Desired mean value of the measurements.\n",
    "    std : float\n",
    "    Desired standard deviation of the measurements.\n",
    "    n_measurements : int, optional\n",
    "    Number of separate measurements. Default is 500 measurements.\n",
    "    n_samples : int, optional\n",
    "    Number of samples taken per measurement. Default is 20 samples.\n",
    "    per measurement.\n",
    "    Returns\n",
    "    -------\n",
    "    data : numpy.ndarray\n",
    "    Array representing the experimental data. Each measurement\n",
    "    (composed of many samples) is a row of this array:\n",
    "    -----------------------------------\n",
    "    meas1 | sample0 | sample1 | sample2 | ...\n",
    "    meas2 | sample0 | sample1 | sample2 | ...\n",
    "    meas3 | sample0 | sample1 | sample2 | ...\n",
    "    ...\n",
    "    \"\"\"\n",
    "    return np.random.normal(loc = mean, scale = std, size = (n_measurements, n_samples))"
   ]
  },
  {
   "cell_type": "code",
   "execution_count": 5,
   "metadata": {},
   "outputs": [],
   "source": [
    "#creating a fake data set for our rolling experiment using std and mean obtained\n",
    "simdata = data_generator(np.mean(results, axis=0)[4], np.std(results, axis=0)[4])"
   ]
  },
  {
   "cell_type": "code",
   "execution_count": 6,
   "metadata": {},
   "outputs": [
    {
     "name": "stdout",
     "output_type": "stream",
     "text": [
      "bins=10\n"
     ]
    },
    {
     "data": {
      "image/png": "[encoded data removed]",
      "text/plain": [
       "<Figure size 432x288 with 1 Axes>"
      ]
     },
     "metadata": {
      "needs_background": "light"
     },
     "output_type": "display_data"
    },
    {
     "name": "stdout",
     "output_type": "stream",
     "text": [
      "bins=50\n"
     ]
    },
    {
     "data": {
      "image/png": "[encoded data removed]",
      "text/plain": [
       "<Figure size 432x288 with 1 Axes>"
      ]
     },
     "metadata": {
      "needs_background": "light"
     },
     "output_type": "display_data"
    },
    {
     "name": "stdout",
     "output_type": "stream",
     "text": [
      "mean\n",
      "2.705472567313785\n",
      "std\n",
      "0.00765030209142051\n"
     ]
    }
   ],
   "source": [
    "#create and save plot\n",
    "print('bins=10')\n",
    "plt.hist(np.ravel(simdata), bins=10)\n",
    "plt.show()\n",
    "print('bins=50')\n",
    "histdat, n, _ = plt.hist(np.ravel(simdata), bins=50)\n",
    "plt.show()\n",
    "print('mean')\n",
    "print(np.mean(simdata))\n",
    "print('std')\n",
    "print(np.std(simdata))\n",
    "np.savetxt('fakedata.csv', histdat)"
   ]
  },
  {
   "cell_type": "code",
   "execution_count": 7,
   "metadata": {},
   "outputs": [
    {
     "name": "stdout",
     "output_type": "stream",
     "text": [
      "bins=10\n"
     ]
    },
    {
     "data": {
      "image/png": "[encoded data removed]",
      "text/plain": [
       "<Figure size 432x288 with 1 Axes>"
      ]
     },
     "metadata": {
      "needs_background": "light"
     },
     "output_type": "display_data"
    },
    {
     "name": "stdout",
     "output_type": "stream",
     "text": [
      "bins=50\n"
     ]
    },
    {
     "data": {
      "image/png": "[encoded data removed]",
      "text/plain": [
       "<Figure size 432x288 with 1 Axes>"
      ]
     },
     "metadata": {
      "needs_background": "light"
     },
     "output_type": "display_data"
    },
    {
     "name": "stdout",
     "output_type": "stream",
     "text": [
      "mean\n",
      "2.705472567313785\n",
      "std\n",
      "0.00171500790468689\n"
     ]
    }
   ],
   "source": [
    "#calculation mean of each data set\n",
    "fkmean = np.mean(simdata, axis=1)\n",
    "print('bins=10')\n",
    "plt.hist(fkmean, bins=10)\n",
    "plt.show()\n",
    "print('bins=50')\n",
    "histdat, n, _ = plt.hist(fkmean, bins=50)\n",
    "plt.show()\n",
    "print('mean')\n",
    "print(np.mean(fkmean))\n",
    "print('std')\n",
    "print(np.std(fkmean))\n",
    "np.savetxt('fakedatamean.csv', histdat)"
   ]
  },
  {
   "cell_type": "code",
   "execution_count": 8,
   "metadata": {},
   "outputs": [
    {
     "data": {
      "image/png": "[encoded data removed]",
      "text/plain": [
       "<Figure size 432x288 with 1 Axes>"
      ]
     },
     "metadata": {
      "needs_background": "light"
     },
     "output_type": "display_data"
    }
   ],
   "source": [
    "#overlay of gausian function\n",
    "#start by defining the function\n",
    "mn = np.mean(simdata)\n",
    "st = np.std(simdata)\n",
    "x= np.linspace(np.min(simdata),np.max(simdata),num=100)\n",
    "prob = (np.exp(-np.power(x - mn,2)/(2*np.power(st,2))))/(st*np.sqrt(2*math.pi))\n",
    "\n",
    "#get the bin and create the gaussian\n",
    "\n",
    "n , bins , _= plt.hist(np.ravel(simdata), bins=10)\n",
    "\n",
    "bn = bins[1]-bins[0]\n",
    "sampint = bn*np.sum(n)\n",
    "\n",
    "probnorm = prob*sampint\n",
    "\n",
    "plt.plot(x,probnorm)\n",
    "plt.show()"
   ]
  },
  {
   "cell_type": "code",
   "execution_count": 9,
   "metadata": {},
   "outputs": [
    {
     "name": "stdout",
     "output_type": "stream",
     "text": [
      "our measurments, mean then std\n",
      "2.7054\n",
      "0.007592101158440917\n",
      "generated data, mean then std\n",
      "2.705472567313785\n",
      "0.00765030209142051\n",
      "looking at standard error, us vs generated\n",
      "0.001697645428232879\n",
      "7.650302091420511e-05\n",
      "more trials is much much better\n"
     ]
    }
   ],
   "source": [
    "#question 4 \n",
    "print('our measurments, mean then std')\n",
    "print(np.mean(results, axis=0)[4])\n",
    "print(np.std(results, axis=0)[4])\n",
    "print('generated data, mean then std')\n",
    "print(np.mean(np.ravel(simdata)))\n",
    "print(np.std(np.ravel(simdata)))\n",
    "print('looking at standard error, us vs generated')\n",
    "print(np.std(results, axis=0)[4]/np.sqrt(20))\n",
    "print(np.std(np.ravel(simdata))/np.sqrt(20*500))\n",
    "print('more trials is much much better')"
   ]
  },
  {
   "cell_type": "code",
   "execution_count": 10,
   "metadata": {},
   "outputs": [
    {
     "data": {
      "image/png": "[encoded data removed]",
      "text/plain": [
       "<Figure size 432x288 with 1 Axes>"
      ]
     },
     "metadata": {
      "needs_background": "light"
     },
     "output_type": "display_data"
    }
   ],
   "source": [
    "#last part\n",
    "\n",
    "std = np.std(np.ravel(simdata))\n",
    "mean = np.mean(np.ravel(simdata))\n",
    "xrange = (mean - 3*std, mean + 3*std)\n",
    "histdat1, n, _ = plt.hist(np.ravel(simdata), bins=6, range=xrange)\n",
    "plt.show()\n",
    "np.savetxt('6bin.csv',histdat1)"
   ]
  },
  {
   "cell_type": "code",
   "execution_count": 11,
   "metadata": {},
   "outputs": [
    {
     "name": "stdout",
     "output_type": "stream",
     "text": [
      "within 1 standard deviation\n",
      "0.6817\n",
      "within 2 standard deviation\n",
      "0.9954\n",
      "within 3 standard deviation\n",
      "0.9974\n"
     ]
    }
   ],
   "source": [
    "#last question\n",
    "print('within 1 standard deviation')\n",
    "tottrials = 20*500\n",
    "frac1 = (histdat1[2]+histdat1[3])/(tottrials)\n",
    "print(frac1)\n",
    "\n",
    "print('within 2 standard deviation')\n",
    "frac2 = (np.sum(histdat1)-histdat1[0]+histdat1[5])/(tottrials)\n",
    "print(frac2)\n",
    "\n",
    "print('within 3 standard deviation')\n",
    "frac3 = (np.sum(histdat1))/(tottrials)\n",
    "print(frac3)\n"
   ]
  },
  {
   "cell_type": "code",
   "execution_count": null,
   "metadata": {},
   "outputs": [],
   "source": []
  },
  {
   "cell_type": "code",
   "execution_count": null,
   "metadata": {},
   "outputs": [],
   "source": []
  },
  {
   "cell_type": "code",
   "execution_count": null,
   "metadata": {},
   "outputs": [],
   "source": []
  },
  {
   "cell_type": "code",
   "execution_count": null,
   "metadata": {},
   "outputs": [],
   "source": []
  }
 ],
 "metadata": {
  "anaconda-cloud": {},
  "kernelspec": {
   "display_name": "Python 3",
   "language": "python",
   "name": "python3"
  },
  "language_info": {
   "codemirror_mode": {
    "name": "ipython",
    "version": 3
   },
   "file_extension": ".py",
   "mimetype": "text/x-python",
   "name": "python",
   "nbconvert_exporter": "python",
   "pygments_lexer": "ipython3",
   "version": "3.6.5"
  }
 },
 "nbformat": 4,
 "nbformat_minor": 1
}
