{
 "cells": [
  {
   "cell_type": "code",
   "execution_count": 46,
   "metadata": {},
   "outputs": [],
   "source": [
    "import numpy as np\n",
    "import os\n",
    "import matplotlib.pyplot as plt\n",
    "from decimal import Decimal"
   ]
  },
  {
   "cell_type": "code",
   "execution_count": 117,
   "metadata": {},
   "outputs": [
    {
     "name": "stdout",
     "output_type": "stream",
     "text": [
      "Mean time measured without appropriate significant figures\n",
      "83.44\n",
      "Mean time measured\n",
      "83.4\n",
      "Mean calories burned without appropriate significant figures\n",
      "1062.5\n",
      "Mean calories burned\n",
      "1060.0\n",
      "Standard deviation of times measured without appropriate significant figures\n",
      "31.15905004970466\n",
      "Standard deviation of times measured\n",
      "31.2\n",
      "Standard deviation of times measured without appropriate significant figures\n",
      "464.27057843460204\n",
      "Standard deviation of burned calories measured\n",
      "464\n"
     ]
    }
   ],
   "source": [
    "#question letter a\n",
    "\n",
    "#finding the standard deviation and mean without using std() or mean(), respectively\n",
    "\n",
    "time = [101,96,133,45,105,48,34,92,74,75,99,112,62,99,69,121,119,50,93,89,84,124,51,58,34,132,97,77,96,85,97,85,106,82,139,46,32,33,27,68,73,63,111,95,112,131,136,43,36,103]\n",
    "\n",
    "calories = [1267,759,899,434,1489,681,544,929,934,376,949,1087,910,1188,469,1449,1218,395,1399,1114,1146,1775,678,874,630,1967,1321,1382,1167,1009,1716,860,1277,1286,1718,1004,723,491,82,1003,443,845,1598,1212,1633,2235,1936,601,645,1378]\n",
    "\n",
    "number_elements_time = len(time)\n",
    "number_elements_cal = len(calories)\n",
    "\n",
    "mean_time = (1/number_elements_time)*sum(time)\n",
    "mean_cal = (1/number_elements_cal)*sum(calories)\n",
    "\n",
    "mean_time_sigfig = round(mean_time,1)\n",
    "mean_cal_sigfig = round(mean_cal,-1)\n",
    "\n",
    "print('Mean time measured without appropriate significant figures')\n",
    "print(mean_time)\n",
    "\n",
    "print('Mean time measured')\n",
    "print(mean_time_sigfig)\n",
    "\n",
    "print('Mean calories burned without appropriate significant figures')\n",
    "print(mean_cal)\n",
    "\n",
    "print('Mean calories burned')\n",
    "print(mean_cal_sigfig)\n",
    "\n",
    "sum_time = sum(np.power([x - mean_time for x in time],2))\n",
    "std_time = np.sqrt(1/number_elements_time)*np.sqrt(sum_time)\n",
    "\n",
    "#we round to the first decimal place to get 3 significant figures\n",
    "std_time_sigfig = round(std_time,1)\n",
    "\n",
    "sum_cal = sum(np.power([x - mean_cal for x in calories],2))\n",
    "std_cal = np.sqrt(1/number_elements_cal)*np.sqrt(sum_cal)\n",
    "\n",
    "\n",
    "#we round to no decimal place to get 3 significant figures\n",
    "std_cal_sigfig = int(std_cal)\n",
    "\n",
    "print('Standard deviation of times measured without appropriate significant figures')\n",
    "print(std_time)\n",
    "\n",
    "print('Standard deviation of times measured')\n",
    "print(std_time_sigfig)\n",
    "\n",
    "print('Standard deviation of times measured without appropriate significant figures')\n",
    "print(std_cal)\n",
    "\n",
    "print('Standard deviation of burned calories measured')\n",
    "print(std_cal_sigfig)\n"
   ]
  },
  {
   "cell_type": "code",
   "execution_count": 69,
   "metadata": {},
   "outputs": [
    {
     "data": {
      "image/png": "[encoded data removed]",
      "text/plain": [
       "<Figure size 432x288 with 1 Axes>"
      ]
     },
     "metadata": {},
     "output_type": "display_data"
    }
   ],
   "source": [
    "#question 1 letter b\n",
    "\n",
    "N = 100\n",
    "x = [101,96,133,45,105,48,34,92,74,75,99,112,62,99,69,121,119,50,93,89,84,124,51,58,34,132,97,77,96,85,97,85,106,82,139,46,32,33,27,68,73,63,111,95,112,131,136,43,36,103]\n",
    "y = [1267,759,899,434,1489,681,544,929,934,376,949,1087,910,1188,469,1449,1218,395,1399,1114,1146,1775,678,874,630,1967,1321,1382,1167,1009,1716,860,1277,1286,1718,1004,723,491,82,1003,443,845,1598,1212,1633,2235,1936,601,645,1378]\n",
    "colors = (0,0,0)\n",
    "area = np.pi*3\n",
    " \n",
    "# Plot\n",
    "plt.scatter(x, y, s=area, c=colors, alpha=0.5)\n",
    "plt.title('Scatter plot of the calories burned with respect to time spent walking')\n",
    "plt.xlabel('Time')\n",
    "plt.ylabel('Calories burned')\n",
    "plt.show()"
   ]
  },
  {
   "cell_type": "code",
   "execution_count": null,
   "metadata": {},
   "outputs": [],
   "source": [
    "#question 1 letter c\n",
    "\n",
    "#First of all, we would expect the correlation coefficient to be positive given that the relationship is linearly increasing.\n",
    "#Moreover, we would expect the correlation coefficient to be closer to 1 than 0 given that there is a visible trend.\n"
   ]
  },
  {
   "cell_type": "code",
   "execution_count": 119,
   "metadata": {},
   "outputs": [
    {
     "name": "stdout",
     "output_type": "stream",
     "text": [
      "Pearson coefficient of time spent walking and calories burned\n",
      "0.812\n",
      "Covariance found using np.cov without appropriate number of significant figures\n",
      "11981.102040816326\n",
      "Covariance found using np.cov\n",
      "12000.0\n",
      "Covariance found using rho without appropriate number of significant figures\n",
      "11981.102040816328\n",
      "Covariance found using rho\n",
      "12000.0\n"
     ]
    }
   ],
   "source": [
    "#question 1 letter d\n",
    "\n",
    "time = [101,96,133,45,105,48,34,92,74,75,99,112,62,99,69,121,119,50,93,89,84,124,51,58,34,132,97,77,96,85,97,85,106,82,139,46,32,33,27,68,73,63,111,95,112,131,136,43,36,103]\n",
    "calories = [1267,759,899,434,1489,681,544,929,934,376,949,1087,910,1188,469,1449,1218,395,1399,1114,1146,1775,678,874,630,1967,1321,1382,1167,1009,1716,860,1277,1286,1718,1004,723,491,82,1003,443,845,1598,1212,1633,2235,1936,601,645,1378]\n",
    "\n",
    "#we find the correlation coefficient\n",
    "\n",
    "Pearson = np.corrcoef(time, calories)[0,1]\n",
    "Pearson_sigfig = round(Pearson,3)\n",
    "\n",
    "print('Pearson coefficient of time spent walking and calories burned')\n",
    "print(Pearson_sigfig)\n",
    "\n",
    "#we find the covariance. We could use the Pearson coefficient or np.cov. We show that both give the same result.\n",
    "\n",
    "cov_np = np.cov(time, calories)[0,1]\n",
    "cov_np_sigfig = round(cov_np,-2)\n",
    "\n",
    "cov_p = (Pearson)*(np.std(time, ddof=1)*np.std(calories, ddof=1))\n",
    "cov_p_sigfig = round(cov_p,-2)\n",
    "\n",
    "print('Covariance found using np.cov without appropriate number of significant figures')\n",
    "print(cov_np)\n",
    "print('Covariance found using np.cov')\n",
    "print(cov_np_sigfig)\n",
    "print('Covariance found using rho without appropriate number of significant figures')\n",
    "print(cov_p)\n",
    "print('Covariance found using rho')\n",
    "print(cov_p_sigfig)"
   ]
  },
  {
   "cell_type": "code",
   "execution_count": null,
   "metadata": {},
   "outputs": [],
   "source": []
  }
 ],
 "metadata": {
  "kernelspec": {
   "display_name": "Python 3",
   "language": "python",
   "name": "python3"
  },
  "language_info": {
   "codemirror_mode": {
    "name": "ipython",
    "version": 3
   },
   "file_extension": ".py",
   "mimetype": "text/x-python",
   "name": "python",
   "nbconvert_exporter": "python",
   "pygments_lexer": "ipython3",
   "version": "3.6.5"
  }
 },
 "nbformat": 4,
 "nbformat_minor": 2
}
