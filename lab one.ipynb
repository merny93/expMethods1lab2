{
 "cells": [
  {
   "cell_type": "markdown",
   "metadata": {},
   "source": [
    "# Lab 2, intro to pyhton \n",
    "\n",
    "## Generating Your Virtual Data Set\n",
    "\n",
    "### 1. \n",
    "We have already converted our data into a csv file of the correct dimensions and we have named it `dataLab1.csv`\n",
    "\n",
    "We therefore start by importing needed libraries"
   ]
  },
  {
   "cell_type": "code",
   "execution_count": 1,
   "metadata": {},
   "outputs": [],
   "source": [
    "#imporing all at once\n",
    "import numpy as np\n",
    "import os\n",
    "import matplotlib.pyplot as plt\n",
    "import math"
   ]
  },
  {
   "cell_type": "markdown",
   "metadata": {},
   "source": [
    "### 2. and 3.\n",
    "Below we input the data using the `no.loadtxt()` function\n",
    "in our specific case we decided not to use the `transpose()` function as we find it convinient to work with the current dimensioins of the array"
   ]
  },
  {
   "cell_type": "code",
   "execution_count": 2,
   "metadata": {},
   "outputs": [],
   "source": [
    "#input of data\n",
    "data = 'dataLab1.csv'\n",
    "results = np.loadtxt(data, delimiter=',')\n",
    "#print(results)"
   ]
  },
  {
   "cell_type": "code",
   "execution_count": 3,
   "metadata": {},
   "outputs": [
    {
     "name": "stdout",
     "output_type": "stream",
     "text": [
      "#4\n",
      "mean\n",
      "[1.12365 1.6228  2.0338  2.4064  2.7054 ]\n",
      "std\n",
      "[0.03738218 0.05150495 0.06280812 0.04810135 0.0075921 ]\n"
     ]
    }
   ],
   "source": [
    "#code for question 4\n",
    "print('#4')\n",
    "meanRslt = np.mean(results, axis=0)\n",
    "print('mean')\n",
    "print(meanRslt)\n",
    "stdRslt = np.std(results, axis=0)\n",
    "print('std')\n",
    "print(stdRslt)"
   ]
  },
  {
   "cell_type": "markdown",
   "metadata": {},
   "source": [
    "### 4.\n",
    "\n",
    "The results obtained for the mean are identical to those previously obtained\n",
    "\n",
    "However these calculations for standard deviation are very close but do not perfectly agree with the previously calculated values for the standard deveation\n",
    "We belive this is due to rounding being done differently between our calculations and the ones provided by python. Seeing as we are not perfect machines we are inclined to trust these values more then the previously obtained results.\n",
    "\n",
    "This being said, the differences are negligeable at best and these slight discreptancies are not a significant problem"
   ]
  },
  {
   "cell_type": "code",
   "execution_count": 4,
   "metadata": {},
   "outputs": [],
   "source": [
    "#def for question 5\n",
    "def data_generator(mean, std, n_measurements = 500, n_samples = 20):\n",
    "    \"\"\"\n",
    "    Generate an array of measurements from a normal distribution.\n",
    "    Parameters\n",
    "    ----------\n",
    "    mean : float\n",
    "    Desired mean value of the measurements.\n",
    "    std : float\n",
    "    Desired standard deviation of the measurements.\n",
    "    n_measurements : int, optional\n",
    "    Number of separate measurements. Default is 500 measurements.\n",
    "    n_samples : int, optional\n",
    "    Number of samples taken per measurement. Default is 20 samples.\n",
    "    per measurement.\n",
    "    Returns\n",
    "    -------\n",
    "    data : numpy.ndarray\n",
    "    Array representing the experimental data. Each measurement\n",
    "    (composed of many samples) is a row of this array:\n",
    "    -----------------------------------\n",
    "    meas1 | sample0 | sample1 | sample2 | ...\n",
    "    meas2 | sample0 | sample1 | sample2 | ...\n",
    "    meas3 | sample0 | sample1 | sample2 | ...\n",
    "    ...\n",
    "    \"\"\"\n",
    "    return np.random.normal(loc = mean, scale = std, size = (n_measurements, n_samples))"
   ]
  },
  {
   "cell_type": "code",
   "execution_count": 5,
   "metadata": {},
   "outputs": [],
   "source": [
    "#creating a fake data set for our rolling experiment using std and mean obtained\n",
    "simdata = data_generator(np.mean(results, axis=0)[4], np.std(results, axis=0)[4])"
   ]
  },
  {
   "cell_type": "markdown",
   "metadata": {},
   "source": [
    "### 5.\n",
    "\n",
    "above, we have defined the random data set function by coping and pasting the provided code and then we generated a data set containing 500 sets of 20 trials. This simulated data set was created using the sample standard deviation and sample mean of the 57cm run in the previous lab.\n",
    "\n",
    "## b) Analysis, Measurment Statistics\n",
    "\n",
    "### 1.\n",
    "\n",
    "below is a histogram of the simulated data. To achieve this, we had to use `np.ravel()` to transform our two dimensional array into a single column essentialy tricking the histogram into thinking that all the results come from the same trial even though it 500 sets of 20.\n",
    "\n",
    "The same procces was done twice, varying the number of bins to show what a heigher bin count graphicaly represents.\n",
    "\n",
    "Finally both the mean and the standard diviation was computed.\n",
    "Note how similar these values are to the standard diviation and mean of our final set of values (for longest distance rolled). This is because the fake data set was generated with a parent gaussian distribution with a mean and stnadard diviation equal to the ones obtained from our data set. \n",
    "\n",
    "The histogram with 10 bins was saved to a csv file named `fakedata.csv`\n"
   ]
  },
  {
   "cell_type": "code",
   "execution_count": 6,
   "metadata": {},
   "outputs": [
    {
     "name": "stdout",
     "output_type": "stream",
     "text": [
      "bins=10\n"
     ]
    },
    {
     "data": {
      "image/png": "[encoded data removed]",
      "text/plain": [
       "<Figure size 432x288 with 1 Axes>"
      ]
     },
     "metadata": {
      "needs_background": "light"
     },
     "output_type": "display_data"
    },
    {
     "name": "stdout",
     "output_type": "stream",
     "text": [
      "bins=50\n"
     ]
    },
    {
     "data": {
      "image/png": "[encoded data removed]",
      "text/plain": [
       "<Figure size 432x288 with 1 Axes>"
      ]
     },
     "metadata": {
      "needs_background": "light"
     },
     "output_type": "display_data"
    },
    {
     "name": "stdout",
     "output_type": "stream",
     "text": [
      "mean\n",
      "2.7053700724451546\n",
      "std\n",
      "0.007659231015359453\n"
     ]
    }
   ],
   "source": [
    "#create and save plot\n",
    "print('bins=10')\n",
    "plt.hist(np.ravel(simdata), bins=10)\n",
    "plt.show()\n",
    "print('bins=50')\n",
    "histdat, n, _ = plt.hist(np.ravel(simdata), bins=50)\n",
    "plt.show()\n",
    "print('mean')\n",
    "print(np.mean(simdata))\n",
    "print('std')\n",
    "print(np.std(simdata))\n",
    "np.savetxt('fakedata.csv', histdat)"
   ]
  },
  {
   "cell_type": "markdown",
   "metadata": {},
   "source": [
    "### 3.\n",
    "\n",
    "Below we have created histograms of the means of the each set of 20 trials (500 means). This gives us a result distribution.\n",
    "\n",
    "Once again we have created two histograms with varying bin counts 10 and 100 to show the graphical effects. \n",
    "\n",
    "To create this histogram we used the `np.mean()` function to compute the means along the x axis of the simulated data array to generate an array containing the 500 means of 20 trials. \n",
    "Then the histogram was created using this array\n",
    "\n",
    "The mean and standard deviation where computed.\n",
    "Note that the mean was very similar to the mean of all the results while the standard diviation decreased according to the statistical law \n",
    "`std' = std/sqrt(Nrepeatedruns)`\n",
    "\n",
    "Finally the data was saved to a file named `fakedatamean.csv`"
   ]
  },
  {
   "cell_type": "code",
   "execution_count": 7,
   "metadata": {},
   "outputs": [
    {
     "name": "stdout",
     "output_type": "stream",
     "text": [
      "bins=10\n"
     ]
    },
    {
     "data": {
      "image/png": "[encoded data removed]",
      "text/plain": [
       "<Figure size 432x288 with 1 Axes>"
      ]
     },
     "metadata": {
      "needs_background": "light"
     },
     "output_type": "display_data"
    },
    {
     "name": "stdout",
     "output_type": "stream",
     "text": [
      "bins=50\n"
     ]
    },
    {
     "data": {
      "image/png": "[encoded data removed]",
      "text/plain": [
       "<Figure size 432x288 with 1 Axes>"
      ]
     },
     "metadata": {
      "needs_background": "light"
     },
     "output_type": "display_data"
    },
    {
     "name": "stdout",
     "output_type": "stream",
     "text": [
      "mean\n",
      "2.7053700724451546\n",
      "std\n",
      "0.0016581322157584381\n"
     ]
    }
   ],
   "source": [
    "#calculation mean of each data set\n",
    "fkmean = np.mean(simdata, axis=1)\n",
    "print('bins=10')\n",
    "plt.hist(fkmean, bins=10)\n",
    "plt.show()\n",
    "print('bins=50')\n",
    "histdat, n, _ = plt.hist(fkmean, bins=50)\n",
    "plt.show()\n",
    "print('mean')\n",
    "print(np.mean(fkmean))\n",
    "print('std')\n",
    "print(np.std(fkmean))\n",
    "np.savetxt('fakedatamean.csv', histdat)"
   ]
  },
  {
   "cell_type": "markdown",
   "metadata": {},
   "source": [
    "### 3. \n",
    "\n",
    "Below we have the graphs with a normalized Gaussian distribution\n",
    "* first for the original histogram \n",
    "* second for the result histogram\n",
    "\n",
    "This is acheived by creating a parent distribution using the sample mean and sample standard diviation. Then mapping this function out for 100 points in the range of the data and finaly ploting it over the histogram."
   ]
  },
  {
   "cell_type": "code",
   "execution_count": 8,
   "metadata": {},
   "outputs": [
    {
     "data": {
      "image/png": "[encoded data removed]",
      "text/plain": [
       "<Figure size 432x288 with 1 Axes>"
      ]
     },
     "metadata": {
      "needs_background": "light"
     },
     "output_type": "display_data"
    }
   ],
   "source": [
    "#overlay of gausian function for intial data\n",
    "#start by defining the function\n",
    "mn = np.mean(simdata)\n",
    "st = np.std(simdata)\n",
    "x= np.linspace(np.min(simdata),np.max(simdata),num=100)\n",
    "prob = (np.exp(-np.power(x - mn,2)/(2*np.power(st,2))))/(st*np.sqrt(2*math.pi))\n",
    "\n",
    "#get the bin and create the gaussian\n",
    "\n",
    "n , bins , _= plt.hist(np.ravel(simdata), bins=10)\n",
    "\n",
    "bn = bins[1]-bins[0]\n",
    "sampint = bn*np.sum(n)\n",
    "\n",
    "probnorm = prob*sampint\n",
    "\n",
    "plt.plot(x,probnorm)\n",
    "plt.show()"
   ]
  },
  {
   "cell_type": "code",
   "execution_count": 9,
   "metadata": {},
   "outputs": [
    {
     "data": {
      "image/png": "[encoded data removed]",
      "text/plain": [
       "<Figure size 432x288 with 1 Axes>"
      ]
     },
     "metadata": {
      "needs_background": "light"
     },
     "output_type": "display_data"
    }
   ],
   "source": [
    "#overlay of gausian function for resaults data\n",
    "#start by defining the function\n",
    "mnR = np.mean(fkmean)\n",
    "stR = np.std(fkmean)\n",
    "x= np.linspace(np.min(fkmean),np.max(fkmean),num=100)\n",
    "prob = (np.exp(-np.power(x - mnR,2)/(2*np.power(stR,2))))/(stR*np.sqrt(2*math.pi))\n",
    "\n",
    "#get the bin and create the gaussian\n",
    "\n",
    "n , bins , _= plt.hist(fkmean, bins=10)\n",
    "\n",
    "bn = bins[1]-bins[0]\n",
    "sampint = bn*np.sum(n)\n",
    "\n",
    "probnorm = prob*sampint\n",
    "\n",
    "plt.plot(x,probnorm)\n",
    "plt.show()"
   ]
  },
  {
   "cell_type": "markdown",
   "metadata": {},
   "source": [
    "### 4.\n",
    "\n",
    "If we compare the standard diviation of the simulated data with the standard diviation of the results data we should ovserve\n",
    "`std' = std/sqrt(Nrepeatedruns)`\n",
    "\n",
    "Calculating the standard diviation of these two runs we get:\n"
   ]
  },
  {
   "cell_type": "code",
   "execution_count": 10,
   "metadata": {},
   "outputs": [
    {
     "name": "stdout",
     "output_type": "stream",
     "text": [
      "Measurments Distribution std\n",
      "0.007659231015359453\n",
      "Results Distribution std\n",
      "0.0016581322157584381\n",
      "lets look at the ratio and compare it to 1/sqrt(N)\n",
      "ratio\n",
      "0.21648807986510651\n",
      "1/sqrt(20)\n",
      "0.22360679774997896\n",
      "Very close indeed, this shows that the relashionship holds\n"
     ]
    }
   ],
   "source": [
    "#question 4 \n",
    "print('Measurments Distribution std')\n",
    "print(np.std(np.ravel(simdata)))\n",
    "print('Results Distribution std')\n",
    "print(np.std(fkmean))\n",
    "print('lets look at the ratio and compare it to 1/sqrt(N)')\n",
    "print('ratio')\n",
    "print(np.std(fkmean)/np.std(np.ravel(simdata)))\n",
    "print('1/sqrt(20)')\n",
    "print(1/np.sqrt(20))\n",
    "print('Very close indeed, this shows that the relashionship holds')"
   ]
  },
  {
   "cell_type": "markdown",
   "metadata": {},
   "source": [
    "### 5. \n",
    "\n",
    "Now if we were to take the _result distribution_ of the result distribution we will and keep doing this until we essentialy have one data point. and every time the relatshionship of the new standard diviation to the old one will hold, so taking this to the extreme where we only want one data point:\n",
    "`stderror = samplestd/sqrt(N)`\n",
    "\n",
    "looking at the standard error we get:"
   ]
  },
  {
   "cell_type": "code",
   "execution_count": 11,
   "metadata": {},
   "outputs": [
    {
     "name": "stdout",
     "output_type": "stream",
     "text": [
      "standard error is:\n",
      "7.415392700236431e-05\n"
     ]
    }
   ],
   "source": [
    "print('standard error is:')\n",
    "print(np.std(fkmean)/np.sqrt(500))"
   ]
  },
  {
   "cell_type": "markdown",
   "metadata": {},
   "source": [
    "## Statistics of your measurment distribution:\n",
    "\n",
    "### 1.\n",
    "\n",
    "Creating a histogram with 6 bins each the width of one standard diviation.\n",
    "This is done by setting `bins=6` and then setting the min to max range of the graph such that when divided equally into 6, each bin will be exactly one standard diviation\n",
    "\n",
    "Finally this histogram is saved to `6bin.csv`"
   ]
  },
  {
   "cell_type": "code",
   "execution_count": 12,
   "metadata": {},
   "outputs": [
    {
     "data": {
      "image/png": "[encoded data removed]",
      "text/plain": [
       "<Figure size 432x288 with 1 Axes>"
      ]
     },
     "metadata": {
      "needs_background": "light"
     },
     "output_type": "display_data"
    }
   ],
   "source": [
    "#last part\n",
    "\n",
    "std = np.std(np.ravel(simdata))\n",
    "mean = np.mean(np.ravel(simdata))\n",
    "xrange = (mean - 3*std, mean + 3*std)\n",
    "histdat1, n, _ = plt.hist(np.ravel(simdata), bins=6, range=xrange)\n",
    "plt.show()\n",
    "np.savetxt('6bin.csv',histdat1)"
   ]
  },
  {
   "cell_type": "markdown",
   "metadata": {},
   "source": [
    "### 2. \n",
    "\n",
    "Below we have computed the fraction of results that lie within one, two and three standard diviations from the mean.\n",
    "\n",
    "For a perfect Gaussian distribution we would expect these fractions to be respectivly 0.68, 0.95, 0.997 which is very close to the obtained results"
   ]
  },
  {
   "cell_type": "code",
   "execution_count": 13,
   "metadata": {},
   "outputs": [
    {
     "name": "stdout",
     "output_type": "stream",
     "text": [
      "within 1 standard deviation\n",
      "0.6743\n",
      "within 2 standard deviation\n",
      "0.9575\n",
      "within 3 standard deviation\n",
      "0.9977\n"
     ]
    }
   ],
   "source": [
    "#last question\n",
    "print('within 1 standard deviation')\n",
    "tottrials = 20*500\n",
    "frac1 = (histdat1[2]+histdat1[3])/(tottrials)\n",
    "print(frac1)\n",
    "\n",
    "print('within 2 standard deviation')\n",
    "frac2 = (np.sum(histdat1)-histdat1[0]-histdat1[5])/(tottrials)\n",
    "print(frac2)\n",
    "\n",
    "print('within 3 standard deviation')\n",
    "frac3 = (np.sum(histdat1))/(tottrials)\n",
    "print(frac3)\n"
   ]
  }
 ],
 "metadata": {
  "anaconda-cloud": {},
  "kernelspec": {
   "display_name": "Python 3",
   "language": "python",
   "name": "python3"
  },
  "language_info": {
   "codemirror_mode": {
    "name": "ipython",
    "version": 3
   },
   "file_extension": ".py",
   "mimetype": "text/x-python",
   "name": "python",
   "nbconvert_exporter": "python",
   "pygments_lexer": "ipython3",
   "version": "3.6.5"
  }
 },
 "nbformat": 4,
 "nbformat_minor": 1
}
